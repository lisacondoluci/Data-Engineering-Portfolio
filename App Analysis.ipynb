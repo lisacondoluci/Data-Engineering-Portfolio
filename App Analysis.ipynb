{
 "cells": [
  {
   "cell_type": "markdown",
   "metadata": {},
   "source": [
    "# Profitable App Profiles for App Store and Google Play Markets\n",
    "\n",
    "I am completing this project under the assumption that I am working for a company that builds Android and iOS mobile apps, and makes those apps available on Google Play and the App Store. \n",
    "\n",
    "The company only builds apps that are free to download and install, and the main source of revenue consists of in-app adds. Therefore, revenue for a given app is mostly influenced by the number of users who see and engage with the ads. \n",
    " "
   ]
  },
  {
   "cell_type": "markdown",
   "metadata": {},
   "source": [
    "The goal of this project is to analyze data to understand what type of apps are likely to attract more users on Google Play and the App Store.\n",
    "\n",
    "I will be analyzing a data set containing about 10,000 [Android apps](https://www.kaggle.com/lava18/google-play-store-apps) from Google Play (collected in Aug 2018) and 7,000 [iOS apps](https://www.kaggle.com/ramamet4/app-store-apple-data-set-10k-apps) from the App Store (collected in July 2017). "
   ]
  },
  {
   "cell_type": "code",
   "execution_count": 3,
   "metadata": {},
   "outputs": [
    {
     "name": "stdout",
     "output_type": "stream",
     "text": [
      "['id', 'track_name', 'size_bytes', 'currency', 'price', 'rating_count_tot', 'rating_count_ver', 'user_rating', 'user_rating_ver', 'ver', 'cont_rating', 'prime_genre', 'sup_devices.num', 'ipadSc_urls.num', 'lang.num', 'vpp_lic']\n",
      "\n",
      "\n",
      "['284882215', 'Facebook', '389879808', 'USD', '0.0', '2974676', '212', '3.5', '3.5', '95.0', '4+', 'Social Networking', '37', '1', '29', '1']\n",
      "\n",
      "\n",
      "['389801252', 'Instagram', '113954816', 'USD', '0.0', '2161558', '1289', '4.5', '4.0', '10.23', '12+', 'Photo & Video', '37', '0', '29', '1']\n",
      "\n",
      "\n",
      "['529479190', 'Clash of Clans', '116476928', 'USD', '0.0', '2130805', '579', '4.5', '4.5', '9.24.12', '9+', 'Games', '38', '5', '18', '1']\n",
      "\n",
      "\n",
      "['420009108', 'Temple Run', '65921024', 'USD', '0.0', '1724546', '3842', '4.5', '4.0', '1.6.2', '9+', 'Games', '40', '5', '1', '1']\n",
      "\n",
      "\n",
      "['284035177', 'Pandora - Music & Radio', '130242560', 'USD', '0.0', '1126879', '3594', '4.0', '4.5', '8.4.1', '12+', 'Music', '37', '4', '1', '1']\n",
      "\n",
      "\n",
      "\n",
      "\n",
      "['App', 'Category', 'Rating', 'Reviews', 'Size', 'Installs', 'Type', 'Price', 'Content Rating', 'Genres', 'Last Updated', 'Current Ver', 'Android Ver']\n",
      "\n",
      "\n",
      "['Photo Editor & Candy Camera & Grid & ScrapBook', 'ART_AND_DESIGN', '4.1', '159', '19M', '10,000+', 'Free', '0', 'Everyone', 'Art & Design', 'January 7, 2018', '1.0.0', '4.0.3 and up']\n",
      "\n",
      "\n",
      "['Coloring book moana', 'ART_AND_DESIGN', '3.9', '967', '14M', '500,000+', 'Free', '0', 'Everyone', 'Art & Design;Pretend Play', 'January 15, 2018', '2.0.0', '4.0.3 and up']\n",
      "\n",
      "\n",
      "['U Launcher Lite – FREE Live Cool Themes, Hide Apps', 'ART_AND_DESIGN', '4.7', '87510', '8.7M', '5,000,000+', 'Free', '0', 'Everyone', 'Art & Design', 'August 1, 2018', '1.2.4', '4.0.3 and up']\n",
      "\n",
      "\n",
      "['Sketch - Draw & Paint', 'ART_AND_DESIGN', '4.5', '215644', '25M', '50,000,000+', 'Free', '0', 'Teen', 'Art & Design', 'June 8, 2018', 'Varies with device', '4.2 and up']\n",
      "\n",
      "\n",
      "['Pixel Draw - Number Art Coloring Book', 'ART_AND_DESIGN', '4.3', '967', '2.8M', '100,000+', 'Free', '0', 'Everyone', 'Art & Design;Creativity', 'June 20, 2018', '1.1', '4.4 and up']\n",
      "\n",
      "\n"
     ]
    }
   ],
   "source": [
    "from csv import reader\n",
    "\n",
    "opened_apple_store_file = open('/Users/lisacondoluci/Documents/AppleStore.csv')\n",
    "read_apple_store_file = reader(opened_apple_store_file)\n",
    "ios_data = list(read_apple_store_file)\n",
    "opened_apple_store_file.close()\n",
    "ios_header = ios_data[0]\n",
    "ios_data = ios_data[1:]\n",
    "\n",
    "opened_google_play_store_file = open('/Users/lisacondoluci/Documents/googleplaystore.csv')\n",
    "read_google_play_store_file = reader(opened_google_play_store_file)\n",
    "android_data = list(read_google_play_store_file)\n",
    "opened_google_play_store_file.close()\n",
    "android_header = android_data[0]\n",
    "android_data = android_data[1:]\n",
    "\n",
    "def explore_data(dataset, start, end, rows_and_columns=False):\n",
    "    dataset_slice = dataset[start:end]\n",
    "    for row in dataset_slice:\n",
    "        print(row)\n",
    "        print('\\n') # adds a new empty line after each row\n",
    "    if rows_and_columns:\n",
    "        print('Number of rows:', len(dataset))\n",
    "        print('Number of columns:', len(dataset[0]))\n",
    " \n",
    "print(ios_header)\n",
    "print('\\n')\n",
    "explore_data(ios_data, 0, 5)\n",
    "print('\\n')\n",
    "print(android_header)\n",
    "print('\\n')\n",
    "explore_data(android_data, 0, 5)"
   ]
  },
  {
   "cell_type": "markdown",
   "metadata": {},
   "source": [
    "After briefly exploring the data, the next step is to clean the data. I will remove any apps that are not *free*, and are not directed toward an *English-speaking* audience. "
   ]
  },
  {
   "cell_type": "code",
   "execution_count": null,
   "metadata": {},
   "outputs": [],
   "source": [
    "print(android_data[10472])"
   ]
  },
  {
   "cell_type": "markdown",
   "metadata": {},
   "source": [
    "This row in the Google Play Store data has an error since the rating is 19, and the rating can only go up to 5 on Google Play Store, so I will delete it."
   ]
  },
  {
   "cell_type": "code",
   "execution_count": null,
   "metadata": {},
   "outputs": [],
   "source": [
    "del android_data[10472]"
   ]
  },
  {
   "cell_type": "markdown",
   "metadata": {},
   "source": [
    "Now I will check for duplicate entries in Google Play Store data. I'll determine which duplicate entry has the highest number of reviews, which would imply it is the most recent entry. Then, I will remove all other entries for a given app."
   ]
  },
  {
   "cell_type": "code",
   "execution_count": null,
   "metadata": {},
   "outputs": [],
   "source": [
    "duplicate_apps = []\n",
    "unique_apps = []\n",
    "\n",
    "for app in android_data:\n",
    "    name = app[0]\n",
    "    if name in unique_apps:\n",
    "        duplicate_apps.append(name)\n",
    "    else:\n",
    "        unique_apps.append(name)\n",
    "        \n",
    "print('Number of duplicate apps:', len(duplicate_apps))\n",
    "print('\\n')\n",
    "print('Examples of duplicate apps:', duplicate_apps[:15])\n",
    "print('\\n')\n",
    "print('Actual expected length:', len(android_data) - len(duplicate_apps))"
   ]
  },
  {
   "cell_type": "markdown",
   "metadata": {},
   "source": [
    "Next, in order to remove all duplicate rows, I will create a data dictionary that includes the name of each app, as well as the highest number of reviews of all duplicate entries. When this is completed, I will check if the length of this data dictionary is the same as the actual expected length above, which it is."
   ]
  },
  {
   "cell_type": "code",
   "execution_count": null,
   "metadata": {},
   "outputs": [],
   "source": [
    "reviews_max = {}\n",
    "\n",
    "for app in android_data:\n",
    "    name = app[0]\n",
    "    n_reviews = float(app[3])\n",
    "    if name in reviews_max and reviews_max[name] < n_reviews:\n",
    "        reviews_max[name] = n_reviews\n",
    "    if name not in reviews_max:\n",
    "        reviews_max[name] = n_reviews\n",
    "\n",
    "len(reviews_max)"
   ]
  },
  {
   "cell_type": "markdown",
   "metadata": {},
   "source": [
    "The next step is to put all of the cleaned entries into a list of lists, called `android_clean`."
   ]
  },
  {
   "cell_type": "code",
   "execution_count": null,
   "metadata": {},
   "outputs": [],
   "source": [
    "android_clean = []\n",
    "already_added = []\n",
    "\n",
    "for app in android_data:\n",
    "    name = app[0]\n",
    "    n_reviews = float(app[3])\n",
    "    if n_reviews == reviews_max[name] and name not in already_added:\n",
    "        android_clean.append(app)\n",
    "        already_added.append(name)"
   ]
  },
  {
   "cell_type": "markdown",
   "metadata": {},
   "source": [
    "According to the ASCII, the numbers corresponding to characters we commonly use in English are all in the range 0 to 127. Therefore, using the function `ord()` will help determine the numbers associated with each letter of a string (the app name). I will define a function `english(string)` that will input a string and determine if it is written in English. In order to prevent deleting apps incorrectly, I will only remove an app that has more than three characters outside of the ASCII range. I will test this function with 4 app names below."
   ]
  },
  {
   "cell_type": "code",
   "execution_count": null,
   "metadata": {},
   "outputs": [],
   "source": [
    "def english(string):\n",
    "    non_english = 0\n",
    "    for letter in string:\n",
    "        if ord(letter) > 127:\n",
    "            non_english += 1 \n",
    "    if non_english > 3:\n",
    "        return False\n",
    "    else:\n",
    "        return True\n",
    "\n",
    "print(english('Instagram'))\n",
    "print(english('爱奇艺PPS -《欢乐颂2》电视剧热播'))\n",
    "print(english('Docs To Go™ Free Office Suite'))\n",
    "print(english('Instachat 😜'))"
   ]
  },
  {
   "cell_type": "markdown",
   "metadata": {},
   "source": [
    "I will now filter out any non-English apps from both data sets."
   ]
  },
  {
   "cell_type": "code",
   "execution_count": null,
   "metadata": {},
   "outputs": [],
   "source": [
    "english_ios_apps = []\n",
    "for app in ios_data:\n",
    "    name = app[1]\n",
    "    if english(name) == True:\n",
    "        english_ios_apps.append(app)\n",
    "\n",
    "english_android_apps = []\n",
    "for app in android_clean:\n",
    "    name = app[0]\n",
    "    if english(name) == True:\n",
    "        english_android_apps.append(app)   \n",
    "        \n",
    "explore_data(english_ios_apps, 1, 10)\n",
    "explore_data(english_android_apps, 1, 10)\n",
    "print('\\n')\n",
    "print('Number of English iOS Apps:', len(english_ios_apps))\n",
    "print('\\n')\n",
    "print('Number of English Android Apps:', len(english_android_apps))"
   ]
  },
  {
   "cell_type": "markdown",
   "metadata": {},
   "source": [
    "The final cleaning step is to isolate the free apps in a separate list."
   ]
  },
  {
   "cell_type": "code",
   "execution_count": null,
   "metadata": {},
   "outputs": [],
   "source": [
    "final_ios = []\n",
    "for app in english_ios_apps:\n",
    "    price = app[4]\n",
    "    if float(price) == 0.0:\n",
    "        final_ios.append(app)\n",
    "    \n",
    "final_android = []\n",
    "for app in english_android_apps:\n",
    "    price = app[7]\n",
    "    if price == '0':\n",
    "        final_android.append(app)    \n",
    "\n",
    "explore_data(final_ios, 1, 10)\n",
    "explore_data(final_android, 1, 10)\n",
    "\n",
    "print(len(final_ios))\n",
    "print(len(final_android))\n",
    "        "
   ]
  },
  {
   "cell_type": "markdown",
   "metadata": {},
   "source": [
    "My validation strategy for an app idea is as follows:\n",
    "1. Build a minimal Android version of the app, and add it to Google Play.\n",
    "2. If the app has a good response from users, develop it further.\n",
    "3. If the app is profitable after six months, build an iOS version of the app and add it to the App Store.\n",
    "\n",
    "To analyze the app data, I will build frequency tables. To do this, I will build one function to generate frequency tables that show percentages, and another function to display percentages in a descending order using the `sorted()` function. To do this, I will have to transform the dictionary into a list of tuples, with each one containing a dictionary key and its corresponding value. The value must come first in order to sort. \n",
    "\n",
    "The `display_table()` function below takes in two parameters, `dataset` (a list of lists) and `index` (an integer). It generates a frequency table using the function `freq_table()`, transforms tje frequency table into a list of tuples, sorts the list in descending order, and prints the table.  "
   ]
  },
  {
   "cell_type": "code",
   "execution_count": null,
   "metadata": {},
   "outputs": [],
   "source": [
    "def freq_table(dataset, index):\n",
    "    table = {}\n",
    "    for app in dataset:\n",
    "        genre = app[index]\n",
    "        if genre in table:\n",
    "            table[genre] += 1\n",
    "        else:\n",
    "            table[genre] = 1\n",
    "    for genre in table:\n",
    "        table[genre] = (table[genre] / len(dataset)) * 100\n",
    "    return table        \n",
    "\n",
    "def display_table(dataset, index):\n",
    "    table = freq_table(dataset, index)\n",
    "    table_display = []\n",
    "    for key in table:\n",
    "        key_val_as_tuple = (table[key], key)\n",
    "        table_display.append(key_val_as_tuple)\n",
    "    table_sorted = sorted(table_display, reverse=True)\n",
    "    for entry in table_sorted:\n",
    "        print(entry[1], ':', entry[0])"
   ]
  },
  {
   "cell_type": "markdown",
   "metadata": {},
   "source": [
    "I will start by examining the frequency table for the iOS apps using the `prime_genre` column. "
   ]
  },
  {
   "cell_type": "code",
   "execution_count": null,
   "metadata": {},
   "outputs": [],
   "source": [
    "display_table(final_ios, 11)"
   ]
  },
  {
   "cell_type": "markdown",
   "metadata": {},
   "source": [
    "Among the free English apps on iOS, the highest frequency belongs to the category \"Games\", which is 58.16% of apps. Apps in the category \"Entertainment\" have a much lower frequency of 7.88%. The third most frequent category is \"Photo & Video\" at 4.97%. \n",
    "\n",
    "I will now analyze the Android apps, first using the Category column."
   ]
  },
  {
   "cell_type": "code",
   "execution_count": null,
   "metadata": {},
   "outputs": [],
   "source": [
    "display_table(final_android, 1)"
   ]
  },
  {
   "cell_type": "markdown",
   "metadata": {},
   "source": [
    "The frequencies are quite different for the Android apps. The most frequent category is \"Family\", which has a percentage of 18.91%, while the next highest category, \"Games\", falls at just 9.72%. About 10% for Android compared to almost 60% for iOS for games is very interesting. To investigate further, we can see that the \"Family\" category actually does have several games, mainly for children. Therefore, the actual \"Game\" frequency may be closer to the sum of the highest 2 categories, about 30%. However, we can determine that the App Store seems to be dominated by gaming and entertainment apps, whereas the Google Play store tends to have a more balanced selection.\n",
    "\n",
    "Additionally, there are more Android categories than iOS genres, which may be why the frequencies are more dispersed.\n",
    "\n",
    "Next, I will analyze the Android apps using the Genre column."
   ]
  },
  {
   "cell_type": "code",
   "execution_count": null,
   "metadata": {},
   "outputs": [],
   "source": [
    "display_table(final_android, 9) "
   ]
  },
  {
   "cell_type": "markdown",
   "metadata": {},
   "source": [
    "We can see that there are many more options for Genre on the Android data, so we will be using the Category data moving forward. \n",
    "\n",
    "The information we have at the moment does not provide enough to recommend an app profile, and the frequency tables do not necessarily reveal which genres have the most users. "
   ]
  },
  {
   "cell_type": "markdown",
   "metadata": {},
   "source": [
    "In order to determine which apps have the most users, I will analyze the number of `Installs` on the Android apps. This information is not available for the iOS apps, so I will be using the total number of user ratings as a proxy (column `rating_count_tot`). "
   ]
  },
  {
   "cell_type": "code",
   "execution_count": null,
   "metadata": {},
   "outputs": [],
   "source": [
    "freq_ios = freq_table(final_ios, 11)\n",
    "unique_genres = []\n",
    "for row in freq_ios:\n",
    "    unique_genres.append(row)\n",
    "print(unique_genres)"
   ]
  },
  {
   "cell_type": "code",
   "execution_count": null,
   "metadata": {},
   "outputs": [],
   "source": [
    "for genre in unique_genres:\n",
    "    total = 0   # store the sum of user ratings \n",
    "    len_genre = 0   # number of apps specific to each genre\n",
    "    for row in final_ios:\n",
    "        genre_app = row[11]\n",
    "        if str(genre_app) == str(genre):\n",
    "            user_ratings = int(row[5])\n",
    "            total += user_ratings\n",
    "            len_genre += 1\n",
    "            \n",
    "    avg_num_rat = total / len_genre\n",
    "    print(genre, ':', avg_num_rat)"
   ]
  },
  {
   "cell_type": "markdown",
   "metadata": {},
   "source": [
    "We can see that apps in the \"Navigation\" genre have the  greatest number of user ratings. Next to \"Navigation\" is the \"Reference\" genre, and \"Social Networking\" comes in third place. For free, English apps on iOS, I recommend a Social Networking genre. "
   ]
  },
  {
   "cell_type": "code",
   "execution_count": null,
   "metadata": {},
   "outputs": [],
   "source": [
    "display_table(final_android, 5)"
   ]
  },
  {
   "cell_type": "markdown",
   "metadata": {},
   "source": [
    "We can see above that the `Installs` column of the Android table does not show precise numbers, but rather open ended ones. I will consider an app with 100,000+ installs as having 100,000. To do so, I will have to convert each of these strings to a float, meaning I have to remove the commas and the plus character. Below is an example of how I will do this."
   ]
  },
  {
   "cell_type": "code",
   "execution_count": null,
   "metadata": {},
   "outputs": [],
   "source": [
    "n_installs = '100,000+'\n",
    "n_installs = n_installs.replace('+', '')\n",
    "n_installs = n_installs.replace(',', '')\n",
    "print(n_installs)"
   ]
  },
  {
   "cell_type": "markdown",
   "metadata": {},
   "source": [
    "Now, I will calculate the average number of installs per app genre for the Google Play data set. "
   ]
  },
  {
   "cell_type": "code",
   "execution_count": null,
   "metadata": {},
   "outputs": [],
   "source": [
    "freq_android = freq_table(final_android, 1)\n",
    "unique_categories = []\n",
    "for row in freq_android:\n",
    "    unique_categories.append(row)\n",
    "print(unique_categories)"
   ]
  },
  {
   "cell_type": "code",
   "execution_count": null,
   "metadata": {},
   "outputs": [],
   "source": [
    "for category in unique_categories:\n",
    "    total = 0   # store the sum of installs per category\n",
    "    len_category = 0   # number of apps specific to each category\n",
    "    for row in final_android:\n",
    "        category_app = row[1]\n",
    "        if str(category_app) == str(category):\n",
    "            user_installs = row[5]\n",
    "            user_installs = user_installs.replace('+', '')\n",
    "            user_installs = user_installs.replace(',', '')\n",
    "            user_installs = int(user_installs)\n",
    "            total += user_installs\n",
    "            len_category += 1\n",
    "            \n",
    "    avg_num_cat = total / len_category\n",
    "    print(category, ':', avg_num_cat)"
   ]
  },
  {
   "cell_type": "markdown",
   "metadata": {},
   "source": [
    "It looks as though the \"Communication\" category has the greatest number of installs, with \"Social\" being next. The app profile I recommend is \"Communication\"."
   ]
  },
  {
   "cell_type": "markdown",
   "metadata": {},
   "source": [
    "To futher analyze this data, I can: \n",
    "* Look into the frequence table for the `Genre` column of the Google Play data set for patterns. \n",
    "* Try to determine which genres seem to be most liked by users by examining app ratings.\n",
    "* Refine this project using a data science project [style guide](https://www.dataquest.io/blog/data-science-project-style-guide/)\n",
    "* Use [Stack Overflow](https://stackoverflow.com/) for \"python\" questions."
   ]
  }
 ],
 "metadata": {
  "kernelspec": {
   "display_name": "Python 3",
   "language": "python",
   "name": "python3"
  },
  "language_info": {
   "codemirror_mode": {
    "name": "ipython",
    "version": 3
   },
   "file_extension": ".py",
   "mimetype": "text/x-python",
   "name": "python",
   "nbconvert_exporter": "python",
   "pygments_lexer": "ipython3",
   "version": "3.7.4"
  }
 },
 "nbformat": 4,
 "nbformat_minor": 2
}
