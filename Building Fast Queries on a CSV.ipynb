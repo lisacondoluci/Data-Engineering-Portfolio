{
 "cells": [
  {
   "cell_type": "markdown",
   "metadata": {},
   "source": [
    "# Building Fast Queries on a CSV\n",
    "\n",
    "In this project, I will be answering business questions for a hypothetical online laptop store. I will use the.  `laptops.csv` file as my inventory, which was adapted from the [Laptop Prices dataset](https://www.kaggle.com/ionaskel/laptop-prices) on Kaggle. Here is a brief description of the rows:\n",
    "\n",
    "* **ID**: A unique identifier for the laptop.\n",
    "* **Company**: The name of the company that produces the laptop.\n",
    "* **Product**: The name of the laptop.\n",
    "* **TypeName**: The type of laptop.\n",
    "* **Inches**: The size of the screen in inches.\n",
    "* **ScreenResolution**: The resolution of the screen.\n",
    "* **CPU**: The laptop CPU.\n",
    "* **RAM**: The amount of RAM in the laptop.\n",
    "* **Memory**: The size of the hard drive.\n",
    "* **GPU**: The graphics card name.\n",
    "* **OpSys**: The name of the operating system.\n",
    "* **Weight**: The laptop weight.\n",
    "* **Price**: The price of the laptop.\n",
    "\n",
    "I will first read the file, store the header separately, and print the first five rows. I will print this intially in pandas in order to view more clearly. "
   ]
  },
  {
   "cell_type": "code",
   "execution_count": 1,
   "metadata": {
    "collapsed": false
   },
   "outputs": [
    {
     "name": "stdout",
     "output_type": "stream",
     "text": [
      "        Id Company      Product   TypeName  Inches  \\\n",
      "0  6571244   Apple  MacBook Pro  Ultrabook    13.3   \n",
      "1  7287764   Apple  Macbook Air  Ultrabook    13.3   \n",
      "2  3362737      HP       250 G6   Notebook    15.6   \n",
      "3  9722156   Apple  MacBook Pro  Ultrabook    15.4   \n",
      "4  8550527   Apple  MacBook Pro  Ultrabook    13.3   \n",
      "\n",
      "                     ScreenResolution                         Cpu   Ram  \\\n",
      "0  IPS Panel Retina Display 2560x1600        Intel Core i5 2.3GHz   8GB   \n",
      "1                            1440x900        Intel Core i5 1.8GHz   8GB   \n",
      "2                   Full HD 1920x1080  Intel Core i5 7200U 2.5GHz   8GB   \n",
      "3  IPS Panel Retina Display 2880x1800        Intel Core i7 2.7GHz  16GB   \n",
      "4  IPS Panel Retina Display 2560x1600        Intel Core i5 3.1GHz   8GB   \n",
      "\n",
      "                Memory                           Gpu  OpSys  Weight  Price  \n",
      "0            128GB SSD  Intel Iris Plus Graphics 640  macOS  1.37kg   1339  \n",
      "1  128GB Flash Storage        Intel HD Graphics 6000  macOS  1.34kg    898  \n",
      "2            256GB SSD         Intel HD Graphics 620  No OS  1.86kg    575  \n",
      "3            512GB SSD            AMD Radeon Pro 455  macOS  1.83kg   2537  \n",
      "4            256GB SSD  Intel Iris Plus Graphics 650  macOS  1.37kg   1803  \n"
     ]
    }
   ],
   "source": [
    "import csv\n",
    "with open('laptops.csv') as file:\n",
    "    read = csv.reader(file)\n",
    "    rows = list(read)\n",
    "    header = rows[0]\n",
    "    rows = rows[1:]\n",
    "\n",
    "import pandas as pd\n",
    "laptops = pd.read_csv('laptops.csv', nrows=5)\n",
    "print(laptops)"
   ]
  },
  {
   "cell_type": "markdown",
   "metadata": {
    "collapsed": true
   },
   "source": [
    "## Creating a class\n",
    "\n",
    "The goal of this project is to create a class that represents my inventory. The methods in this class will implement the queries that I want to answer about my inventory. I will also preprocess the data to make those queries run faster. \n",
    "\n",
    "I will start by implementing the constructor, which will take in the name of the CSV file as an argument and then read the rows contained in the file. "
   ]
  },
  {
   "cell_type": "code",
   "execution_count": 2,
   "metadata": {
    "collapsed": false
   },
   "outputs": [
    {
     "name": "stdout",
     "output_type": "stream",
     "text": [
      "['Id', 'Company', 'Product', 'TypeName', 'Inches', 'ScreenResolution', 'Cpu', 'Ram', 'Memory', 'Gpu', 'OpSys', 'Weight', 'Price']\n",
      "[['6571244', 'Apple', 'MacBook Pro', 'Ultrabook', '13.3', 'IPS Panel Retina Display 2560x1600', 'Intel Core i5 2.3GHz', '8GB', '128GB SSD', 'Intel Iris Plus Graphics 640', 'macOS', '1.37kg', 1339], ['7287764', 'Apple', 'Macbook Air', 'Ultrabook', '13.3', '1440x900', 'Intel Core i5 1.8GHz', '8GB', '128GB Flash Storage', 'Intel HD Graphics 6000', 'macOS', '1.34kg', 898], ['3362737', 'HP', '250 G6', 'Notebook', '15.6', 'Full HD 1920x1080', 'Intel Core i5 7200U 2.5GHz', '8GB', '256GB SSD', 'Intel HD Graphics 620', 'No OS', '1.86kg', 575], ['9722156', 'Apple', 'MacBook Pro', 'Ultrabook', '15.4', 'IPS Panel Retina Display 2880x1800', 'Intel Core i7 2.7GHz', '16GB', '512GB SSD', 'AMD Radeon Pro 455', 'macOS', '1.83kg', 2537], ['8550527', 'Apple', 'MacBook Pro', 'Ultrabook', '13.3', 'IPS Panel Retina Display 2560x1600', 'Intel Core i5 3.1GHz', '8GB', '256GB SSD', 'Intel Iris Plus Graphics 650', 'macOS', '1.37kg', 1803]]\n",
      "\n",
      "\n",
      "Number of Rows: 1303\n"
     ]
    }
   ],
   "source": [
    "class Inventory():\n",
    "    \n",
    "    def __init__(self, csv_filename):\n",
    "        import csv\n",
    "        with open(csv_filename) as file:\n",
    "            read = csv.reader(file)\n",
    "            listed = list(read)\n",
    "        self.header = listed[0]\n",
    "        self.rows = listed[1:]\n",
    "        for row in self.rows:\n",
    "            row[-1] = int(row[-1])\n",
    "        \n",
    "laptops = Inventory('laptops.csv')\n",
    "print(laptops.header)\n",
    "print(laptops.rows[:5])\n",
    "print('\\n')\n",
    "print('Number of Rows:', len(laptops.rows))"
   ]
  },
  {
   "cell_type": "markdown",
   "metadata": {},
   "source": [
    "## Adding a method to that class\n",
    "\n",
    "I will be modifying the `Inventory` class throughout the project. Firstly, I will add a way to look up a laptop from a given identifier. This way, when a customer comes to the store with a purchase slip, I can quickly identify to which laptop it corresponds."
   ]
  },
  {
   "cell_type": "code",
   "execution_count": 3,
   "metadata": {
    "collapsed": false
   },
   "outputs": [
    {
     "name": "stdout",
     "output_type": "stream",
     "text": [
      "['3362737', 'HP', '250 G6', 'Notebook', '15.6', 'Full HD 1920x1080', 'Intel Core i5 7200U 2.5GHz', '8GB', '256GB SSD', 'Intel HD Graphics 620', 'No OS', '1.86kg', 575]\n",
      "\n",
      "\n",
      "None\n"
     ]
    }
   ],
   "source": [
    "class Inventory():\n",
    "    \n",
    "    def __init__(self, csv_filename):\n",
    "        import csv\n",
    "        with open(csv_filename) as file:\n",
    "            read = csv.reader(file)\n",
    "            listed = list(read)\n",
    "        self.header = listed[0]\n",
    "        self.rows = listed[1:]\n",
    "        for row in self.rows:\n",
    "            row[-1] = int(row[-1])\n",
    "    \n",
    "    def get_laptop_from_id(self, laptop_id):\n",
    "        for row in self.rows:\n",
    "            if laptop_id == row[0]:\n",
    "                return row\n",
    "        return None\n",
    "        \n",
    "laptops = Inventory('laptops.csv')\n",
    "result1 = laptops.get_laptop_from_id('3362737')\n",
    "result2 = laptops.get_laptop_from_id('3362736')\n",
    "print(result1)\n",
    "print('\\n')\n",
    "print(result2)"
   ]
  },
  {
   "cell_type": "markdown",
   "metadata": {
    "collapsed": true
   },
   "source": [
    "## Optimizing that method\n",
    "\n",
    "That previous algorithm requires looking at every single roe to find the one it's looking for, which has an *O(R)* time complexity, where *R* is the number of rows. I will now try a new method of preprocessing the data. "
   ]
  },
  {
   "cell_type": "code",
   "execution_count": 4,
   "metadata": {
    "collapsed": false,
    "scrolled": true
   },
   "outputs": [
    {
     "name": "stdout",
     "output_type": "stream",
     "text": [
      "['3362737', 'HP', '250 G6', 'Notebook', '15.6', 'Full HD 1920x1080', 'Intel Core i5 7200U 2.5GHz', '8GB', '256GB SSD', 'Intel HD Graphics 620', 'No OS', '1.86kg', 575]\n",
      "\n",
      "\n",
      "None\n"
     ]
    }
   ],
   "source": [
    "class Inventory():\n",
    "    \n",
    "    def __init__(self, csv_filename):\n",
    "        import csv\n",
    "        with open(csv_filename) as file:\n",
    "            read = csv.reader(file)\n",
    "            listed = list(read)\n",
    "        self.header = listed[0]\n",
    "        self.rows = listed[1:]\n",
    "        self.id_to_row = {}\n",
    "        for row in self.rows:\n",
    "            row[-1] = int(row[-1])\n",
    "            id = row[0]\n",
    "            self.id_to_row[id] = row\n",
    "    \n",
    "    def get_laptop_from_id(self, laptop_id):\n",
    "        for row in self.rows:\n",
    "            if laptop_id == row[0]:\n",
    "                return row\n",
    "        return None\n",
    "    \n",
    "    def get_laptop_from_id_fast(self, laptop_id):\n",
    "        if laptop_id in self.id_to_row:\n",
    "            return self.id_to_row[laptop_id]\n",
    "        else:\n",
    "            return None\n",
    "        \n",
    "laptops = Inventory('laptops.csv')\n",
    "result1 = laptops.get_laptop_from_id_fast('3362737')\n",
    "result2 = laptops.get_laptop_from_id_fast('3362736')\n",
    "print(result1)\n",
    "print('\\n')\n",
    "print(result2)"
   ]
  },
  {
   "cell_type": "markdown",
   "metadata": {},
   "source": [
    "This new implementation has time complexity *O(1)* as opposed to the *O(R)* from the earlier method. However, it does so by using more memory to store the `self.id_to_row` dictionary. "
   ]
  },
  {
   "cell_type": "code",
   "execution_count": 5,
   "metadata": {
    "collapsed": false
   },
   "outputs": [
    {
     "name": "stdout",
     "output_type": "stream",
     "text": [
      "1.3079805374145508\n",
      "0.00622868537902832\n"
     ]
    }
   ],
   "source": [
    "import time\n",
    "import random\n",
    "ids = [random.randint(1000000, 9999999) for _ in range(10000)]\n",
    "\n",
    "laptops = Inventory('laptops.csv')\n",
    "total_time_no_dict = 0\n",
    "total_time_dict = 0\n",
    "\n",
    "for id in ids:\n",
    "    id = str(id)\n",
    "    start = time.time()\n",
    "    laptops.get_laptop_from_id(id)\n",
    "    end = time.time()\n",
    "    total_time_no_dict += (end - start)\n",
    "    \n",
    "for id in ids:\n",
    "    id = str(id)\n",
    "    start = time.time()\n",
    "    laptops.get_laptop_from_id_fast(id)\n",
    "    end = time.time()\n",
    "    total_time_dict += (end - start)\n",
    "\n",
    "print(total_time_no_dict)\n",
    "print(total_time_dict)"
   ]
  },
  {
   "cell_type": "markdown",
   "metadata": {},
   "source": [
    "I can see from the values above that the amount of time taken to execute the function using no dictionary is much higher than the time needed to execute the the function with the dictionary. \n",
    "\n",
    "## Laptop promotion\n",
    "\n",
    "I will now create a method that will determine all of the possible values if the prices of two laptops are added together. This will help for a promotion that my company is running."
   ]
  },
  {
   "cell_type": "code",
   "execution_count": 6,
   "metadata": {
    "collapsed": false
   },
   "outputs": [
    {
     "name": "stdout",
     "output_type": "stream",
     "text": [
      "True\n",
      "False\n"
     ]
    }
   ],
   "source": [
    "class Inventory():\n",
    "    \n",
    "    def __init__(self, csv_filename):\n",
    "        import csv\n",
    "        with open(csv_filename) as file:\n",
    "            read = csv.reader(file)\n",
    "            listed = list(read)\n",
    "        self.header = listed[0]\n",
    "        self.rows = listed[1:]\n",
    "        self.id_to_row = {}\n",
    "        for row in self.rows:\n",
    "            row[-1] = int(row[-1])\n",
    "            id = row[0]\n",
    "            self.id_to_row[id] = row\n",
    "    \n",
    "    def get_laptop_from_id(self, laptop_id):\n",
    "        for row in self.rows:\n",
    "            if laptop_id == row[0]:\n",
    "                return row\n",
    "        return None\n",
    "    \n",
    "    def get_laptop_from_id_fast(self, laptop_id):\n",
    "        if laptop_id in self.id_to_row:\n",
    "            return self.id_to_row[laptop_id]\n",
    "        else:\n",
    "            return None\n",
    "        \n",
    "    def check_promotion_dollars(self, dollars):\n",
    "        for row in self.rows:\n",
    "            if row[-1] == dollars:\n",
    "                return True\n",
    "            for other in self.rows:\n",
    "                if row[-1] + other[-1] == dollars:\n",
    "                    return True\n",
    "        return False\n",
    "        \n",
    "laptops = Inventory('laptops.csv')\n",
    "result1 = laptops.check_promotion_dollars(1000)\n",
    "result2 = laptops.check_promotion_dollars(442)\n",
    "print(result1)\n",
    "print(result2)"
   ]
  },
  {
   "cell_type": "markdown",
   "metadata": {},
   "source": [
    "## Preprocessing data\n",
    "\n",
    "Now I can preprocess data in order to make my code run faster. I will store all laptop prices in a set, then check in contant time whether there is a laptop with a given price.  "
   ]
  },
  {
   "cell_type": "code",
   "execution_count": 7,
   "metadata": {
    "collapsed": false
   },
   "outputs": [
    {
     "name": "stdout",
     "output_type": "stream",
     "text": [
      "True\n",
      "False\n"
     ]
    }
   ],
   "source": [
    "class Inventory():\n",
    "    \n",
    "    def __init__(self, csv_filename):\n",
    "        import csv\n",
    "        with open(csv_filename) as file:\n",
    "            read = csv.reader(file)\n",
    "            listed = list(read)\n",
    "        self.header = listed[0]\n",
    "        self.rows = listed[1:]\n",
    "        self.id_to_row = {}\n",
    "        self.prices = set()\n",
    "        for row in self.rows:\n",
    "            row[-1] = int(row[-1])\n",
    "            id = row[0]\n",
    "            self.id_to_row[id] = row\n",
    "            price = row[-1]\n",
    "            self.prices.add(price)\n",
    "            \n",
    "    def get_laptop_from_id(self, laptop_id):\n",
    "        for row in self.rows:\n",
    "            if laptop_id == row[0]:\n",
    "                return row\n",
    "        return None\n",
    "    \n",
    "    def get_laptop_from_id_fast(self, laptop_id):\n",
    "        if laptop_id in self.id_to_row:\n",
    "            return self.id_to_row[laptop_id]\n",
    "        else:\n",
    "            return None\n",
    "        \n",
    "    def check_promotion_dollars(self, dollars):\n",
    "        for row in self.rows:\n",
    "            if row[-1] == dollars:\n",
    "                return True\n",
    "            for other in self.rows:\n",
    "                if row[-1] + other[-1] == dollars:\n",
    "                    return True\n",
    "        return False\n",
    "    \n",
    "    def check_promotion_dollars_fast(self, dollars):\n",
    "        if dollars in self.prices:\n",
    "            return True\n",
    "        for price1 in self.prices:\n",
    "            price2 = dollars - price1\n",
    "            if price2 in self.prices:\n",
    "                return True\n",
    "        return False\n",
    "        \n",
    "laptops = Inventory('laptops.csv')\n",
    "result1 = laptops.check_promotion_dollars_fast(1000)\n",
    "result2 = laptops.check_promotion_dollars_fast(442)\n",
    "print(result1)\n",
    "print(result2)"
   ]
  },
  {
   "cell_type": "markdown",
   "metadata": {},
   "source": [
    "I will now compare the performance of the last two functions. "
   ]
  },
  {
   "cell_type": "code",
   "execution_count": 8,
   "metadata": {
    "collapsed": false
   },
   "outputs": [
    {
     "name": "stdout",
     "output_type": "stream",
     "text": [
      "11.454347133636475\n",
      "0.00035953521728515625\n"
     ]
    }
   ],
   "source": [
    "import time\n",
    "import random\n",
    "ids = [random.randint(100, 5000) for _ in range(100)]\n",
    "\n",
    "laptops = Inventory('laptops.csv')\n",
    "total_time_no_set = 0\n",
    "total_time_set = 0\n",
    "\n",
    "for price in laptops.prices:\n",
    "    start = time.time()\n",
    "    laptops.check_promotion_dollars(price)\n",
    "    end = time.time()\n",
    "    total_time_no_set += (end - start)\n",
    "    \n",
    "for price in laptops.prices:\n",
    "    start = time.time()\n",
    "    laptops.check_promotion_dollars_fast(price)\n",
    "    end = time.time()\n",
    "    total_time_set += (end - start)\n",
    "\n",
    "print(total_time_no_set)\n",
    "print(total_time_set)"
   ]
  },
  {
   "cell_type": "markdown",
   "metadata": {},
   "source": [
    "We can see a huge difference in performance time when using the set versus not using the set, which means that preprocessing the data speeds up performance time by quite a bit.\n",
    "\n",
    "## Finding laptops within a budget\n",
    "\n",
    "Now I will use a binary search algorithm to help a customer find all laptops that fall within their budget. To do this, I will have to sort the laptops by price. "
   ]
  },
  {
   "cell_type": "code",
   "execution_count": 9,
   "metadata": {
    "collapsed": false
   },
   "outputs": [
    {
     "name": "stdout",
     "output_type": "stream",
     "text": [
      "683\n",
      "-1\n"
     ]
    }
   ],
   "source": [
    "def row_price(row):\n",
    "    return row[-1]\n",
    "\n",
    "class Inventory():\n",
    "    \n",
    "    def __init__(self, csv_filename):\n",
    "        import csv\n",
    "        with open(csv_filename) as file:\n",
    "            read = csv.reader(file)\n",
    "            listed = list(read)\n",
    "        self.header = listed[0]\n",
    "        self.rows = listed[1:]\n",
    "        self.id_to_row = {}\n",
    "        self.prices = set()\n",
    "        for row in self.rows:\n",
    "            row[-1] = int(row[-1])\n",
    "            id = row[0]\n",
    "            self.id_to_row[id] = row\n",
    "            price = row[-1]\n",
    "            self.prices.add(price)\n",
    "        self.rows_by_price = sorted(self.rows, key=row_price)\n",
    "            \n",
    "    def get_laptop_from_id(self, laptop_id):\n",
    "        for row in self.rows:\n",
    "            if laptop_id == row[0]:\n",
    "                return row\n",
    "        return None\n",
    "    \n",
    "    def get_laptop_from_id_fast(self, laptop_id):\n",
    "        if laptop_id in self.id_to_row:\n",
    "            return self.id_to_row[laptop_id]\n",
    "        else:\n",
    "            return None\n",
    "        \n",
    "    def check_promotion_dollars(self, dollars):\n",
    "        for row in self.rows:\n",
    "            if row[-1] == dollars:\n",
    "                return True\n",
    "            for other in self.rows:\n",
    "                if row[-1] + other[-1] == dollars:\n",
    "                    return True\n",
    "        return False\n",
    "    \n",
    "    def check_promotion_dollars_fast(self, dollars):\n",
    "        if dollars in self.prices:\n",
    "            return True\n",
    "        for price1 in self.prices:\n",
    "            price2 = dollars - price1\n",
    "            if price2 in self.prices:\n",
    "                return True\n",
    "        return False\n",
    "    \n",
    "    def find_first_laptop_more_expensive(self, target_price):\n",
    "        range_start = 0\n",
    "        range_end = len(self.rows_by_price) - 1\n",
    "        while range_start < range_end:\n",
    "            range_middle = (range_end + range_start) // 2\n",
    "            price = self.rows_by_price[range_middle][-1]\n",
    "            if price > target_price:\n",
    "                range_end = range_middle\n",
    "            else:\n",
    "                 range_start = range_middle + 1\n",
    "        if self.rows_by_price[range_start][-1] <= target_price:\n",
    "            return -1\n",
    "        return range_start\n",
    "          \n",
    "laptops = Inventory('laptops.csv')\n",
    "result1 = laptops.find_first_laptop_more_expensive(1000)\n",
    "result2 = laptops.find_first_laptop_more_expensive(10000)\n",
    "print(result1)\n",
    "print(result2)"
   ]
  }
 ],
 "metadata": {
  "kernelspec": {
   "display_name": "Python 3",
   "language": "python",
   "name": "python3"
  },
  "language_info": {
   "codemirror_mode": {
    "name": "ipython",
    "version": 3
   },
   "file_extension": ".py",
   "mimetype": "text/x-python",
   "name": "python",
   "nbconvert_exporter": "python",
   "pygments_lexer": "ipython3",
   "version": "3.4.3"
  }
 },
 "nbformat": 4,
 "nbformat_minor": 2
}
