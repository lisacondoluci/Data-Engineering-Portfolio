{
 "cells": [
  {
   "cell_type": "markdown",
   "metadata": {
    "collapsed": true
   },
   "source": [
    "# Building a Database for Crime Reports\n",
    "\n",
    "In this project, I will be building a database for storing data related to crimes that occurred in Boston. The data can be found in a locally stored file called `boston.csv`. A description of each column is as follows:\n",
    "* incident_number: identifier of the crime\n",
    "* offense_code: numeric identifier code for committed crime\n",
    "* description: details of nature of the crime\n",
    "* date: date on which the crime happened\n",
    "* day_of_the_week: corresponding day of the week\n",
    "* lat: latitude coordinate of incident\n",
    "* long: longitude coordinate of incident\n",
    "\n",
    "The goal of this prjoect is to create a database named `crimes_db` with a table `boston_crimes`, using appropriate datatypes for storing the data from the `boston.csv` file. Inside the table will be a schema named `crimes`. I will also create the `readonly` and `readwrite` groups with the appropriate privileges, along with one users for each of the groups. \n",
    "\n",
    "First, I will start by connecting to the \"dq\" database using the user \"dq\" (short for DataQuest, as this is a DataQuest project). I will turn on the `connection.autocommit` command in order to do so. After closing the first connection used to do this, I will connect to the `crimedb` new database and create another connection object and cursor object. "
   ]
  },
  {
   "cell_type": "code",
   "execution_count": 1,
   "metadata": {
    "collapsed": false,
    "scrolled": true
   },
   "outputs": [],
   "source": [
    "import psycopg2\n",
    "conn1 = psycopg2.connect(dbname=\"dq\", user=\"dq\")\n",
    "cur1 = conn1.cursor()\n",
    "conn1.autocommit = True\n",
    "cur1.execute(\"create database crimedb;\")\n",
    "conn1.autocommit = False\n",
    "conn1.close()"
   ]
  },
  {
   "cell_type": "code",
   "execution_count": 2,
   "metadata": {
    "collapsed": false
   },
   "outputs": [],
   "source": [
    "conn2 = psycopg2.connect(dbname=\"crimedb\", user=\"dq\")\n",
    "cur2 = conn2.cursor()\n",
    "cur2.execute(\"create schema crimes;\")\n",
    "conn2.commit()"
   ]
  },
  {
   "cell_type": "markdown",
   "metadata": {},
   "source": [
    "Now that I have a database and schema, I can begin creating tables. I will first read the column names from `boston.csv`. "
   ]
  },
  {
   "cell_type": "code",
   "execution_count": 3,
   "metadata": {
    "collapsed": false,
    "scrolled": true
   },
   "outputs": [
    {
     "name": "stdout",
     "output_type": "stream",
     "text": [
      "['1', '619', 'LARCENY ALL OTHERS', '2018-09-02', 'Sunday', '42.35779134', '-71.13937053']\n"
     ]
    }
   ],
   "source": [
    "import csv\n",
    "with open(\"boston.csv\") as file:\n",
    "    reader = csv.reader(file)\n",
    "    col_header = next(reader)\n",
    "    first_row = next(reader)\n",
    "    \n",
    "print(first_row)"
   ]
  },
  {
   "cell_type": "markdown",
   "metadata": {},
   "source": [
    "Next, I will define a function `get_col_value_set()` that will help identify the proper datatypes for each of the columns. Given the name of the csv file and a column index (starting at 0), the function computes a Python set with all distinct values contained in that column. "
   ]
  },
  {
   "cell_type": "code",
   "execution_count": null,
   "metadata": {
    "collapsed": false
   },
   "outputs": [],
   "source": [
    "def get_col_value_set(csv_filename, col_index):\n",
    "    value_set = set()\n",
    "    with open(csv_filename, 'r') as file:\n",
    "        next(file)\n",
    "        reader = csv.reader(file)\n",
    "        for row in reader: \n",
    "            column = row[col_index]\n",
    "            if column not in value_set:\n",
    "                value_set.add(column)\n",
    "    return value_set            "
   ]
  },
  {
   "cell_type": "code",
   "execution_count": null,
   "metadata": {
    "collapsed": false
   },
   "outputs": [],
   "source": [
    "index0 = get_col_value_set(\"boston.csv\", 0)\n",
    "index1 = get_col_value_set(\"boston.csv\", 1)\n",
    "index2 = get_col_value_set(\"boston.csv\", 2)\n",
    "index3 = get_col_value_set(\"boston.csv\", 3)\n",
    "index4 = get_col_value_set(\"boston.csv\", 4)\n",
    "index5 = get_col_value_set(\"boston.csv\", 5)\n",
    "index6 = get_col_value_set(\"boston.csv\", 6)\n",
    "\n",
    "print(\"Number of different values in incident_number:\", len(index0))\n",
    "print(\"Number of different values in offense_code:\", len(index1))\n",
    "print(\"Number of different values in description:\", len(index2))\n",
    "print(\"Number of different values in date:\", len(index3))\n",
    "print(\"Number of different values in day_of_the_week:\", len(index4))\n",
    "print(\"Number of different values in lat:\", len(index5))\n",
    "print(\"Number of different values in long:\", len(index6))"
   ]
  },
  {
   "cell_type": "markdown",
   "metadata": {},
   "source": [
    "I have now determined the number of distinct values in each column of the `boston.csv` file. I already know from above that the two textual columns in the data set are `description` and `day_of_the_week`. I will now print the header row in order to determine which index the `description` column is. "
   ]
  },
  {
   "cell_type": "code",
   "execution_count": null,
   "metadata": {
    "collapsed": false
   },
   "outputs": [],
   "source": [
    "print(col_header)"
   ]
  },
  {
   "cell_type": "markdown",
   "metadata": {},
   "source": [
    "Seeing the `description` has an index of 2, I will use the function I created to compute the maximum length of any value in this column to see the maximum number of characters in any description."
   ]
  },
  {
   "cell_type": "code",
   "execution_count": null,
   "metadata": {
    "collapsed": false
   },
   "outputs": [],
   "source": [
    "descriptions = get_col_value_set('boston.csv', 2)\n",
    "\n",
    "lengths = []\n",
    "for description in descriptions:\n",
    "    lengths.append(len(description))\n",
    "\n",
    "max_length = max(lengths)\n",
    "print(max_length)"
   ]
  },
  {
   "cell_type": "markdown",
   "metadata": {},
   "source": [
    "I have found that the maximum number of characters in any description is 58. \n",
    "\n",
    "I will now create a table named `boston_crimes` inside the `crimes` schema of the `crimedb` database. Before creating the table, I will create the enumerated data type `enum_day`, which will be used for the column that contains the day of the week that the crime happened. The `incident_number` column is the primary key. The other data types are as follows:\n",
    "* incident_number: integer since it is a whole, positive number\n",
    "* offense_code: integer since it is a whole, positive number\n",
    "* description: varchar(58) since we now know the maximum length\n",
    "* date: date since it is in date format\n",
    "* day_of_the_week: date_enum, an enumerated datatype since there is a set number of options for this column\n",
    "* lat: decimal(10,8) since there can be two numbers before the decimal point, and the precision for latitude is 8 decimals after the decimal point\n",
    "* long: decimal(10,8) since there can be two numbers before the decimal point, and the precision for longitude is 8 decimals after the decimal point"
   ]
  },
  {
   "cell_type": "code",
   "execution_count": null,
   "metadata": {
    "collapsed": false
   },
   "outputs": [],
   "source": [
    "cur2.execute('''\n",
    "    create type enum_day as enum (\n",
    "        'Sunday',\n",
    "        'Monday', \n",
    "        'Tuesday', \n",
    "        'Wednesday',\n",
    "        'Thursday',\n",
    "        'Friday',\n",
    "        'Saturday'\n",
    "    );\n",
    "''')\n",
    "\n",
    "conn2.commit()"
   ]
  },
  {
   "cell_type": "code",
   "execution_count": null,
   "metadata": {
    "collapsed": false
   },
   "outputs": [],
   "source": [
    "cur2.execute('''\n",
    "    create table crimes.boston_crimes (\n",
    "        incident_number integer primary key,\n",
    "        offense_code integer,\n",
    "        description varchar(58),\n",
    "        date date,\n",
    "        day_of_the_week enum_day,\n",
    "        latitude decimal(10,8),\n",
    "        longitude decimal(10,8)\n",
    "    );\n",
    "''')\n",
    "\n",
    "conn2.commit()"
   ]
  },
  {
   "cell_type": "markdown",
   "metadata": {},
   "source": [
    "Now that the table is created, I can load data into it using the `cursor.copy_expert()` method."
   ]
  },
  {
   "cell_type": "code",
   "execution_count": null,
   "metadata": {
    "collapsed": false
   },
   "outputs": [],
   "source": [
    "with open(\"boston.csv\") as file:\n",
    "    cur2.copy_expert(\"copy crimes.boston_crimes from stdin with csv header;\", file)\n",
    "    conn2.commit()"
   ]
  },
  {
   "cell_type": "markdown",
   "metadata": {},
   "source": [
    "So far, I have created a database with a schema inside it for holding data about crimes, selected the correct datatypes for storing the data, created a table, and loaded the csv `boston.csv` containing crimes about Boston. \n",
    "\n",
    "Now, I will be creating two new user groups: `readonly` and `readwrite`. I will follow the least privilege principle by revoking all privileges from the `public` group and the `public` schema. "
   ]
  },
  {
   "cell_type": "code",
   "execution_count": null,
   "metadata": {
    "collapsed": true
   },
   "outputs": [],
   "source": [
    "cur2.execute(\"revoke all on schema public from public;\")\n",
    "conn2.commit()"
   ]
  },
  {
   "cell_type": "code",
   "execution_count": null,
   "metadata": {
    "collapsed": true
   },
   "outputs": [],
   "source": [
    "cur2.execute(\"revoke all on database crimedb from public;\")\n",
    "conn2.commit()"
   ]
  },
  {
   "cell_type": "markdown",
   "metadata": {},
   "source": [
    "Now that I have removed any inherent privileges, I can create the two user groups. The `readonly` group will be able to perform `SELECT` queries, while the `readwrite` group will be able to perform `SELECT`, `INSERT`, `DELETE`, and `UPDATE` queries. "
   ]
  },
  {
   "cell_type": "code",
   "execution_count": null,
   "metadata": {
    "collapsed": false,
    "scrolled": true
   },
   "outputs": [],
   "source": [
    "cur2.execute(\"create group readonly nologin;\")\n",
    "cur2.execute(\"create group readwrite nologin;\")\n",
    "cur2.execute(\"grant connect on database crimedb to readonly;\")\n",
    "cur2.execute(\"grant connect on database crimedb to readwrite;\")\n",
    "cur2.execute(\"grant usage on schema crimes to readonly;\")\n",
    "cur2.execute(\"grant usage on schema crimes to readwrite;\")\n",
    "cur2.execute(\"grant select on all tables in schema crimes to readonly;\")\n",
    "cur2.execute(\"grant select, insert, delete, update on all tables in schema crimes to readwrite;\")\n",
    "conn2.commit()"
   ]
  },
  {
   "cell_type": "markdown",
   "metadata": {},
   "source": [
    "Since I have created user groups, the next step is to create users. I will create one user in each group."
   ]
  },
  {
   "cell_type": "code",
   "execution_count": null,
   "metadata": {
    "collapsed": false
   },
   "outputs": [],
   "source": [
    "cur2.execute(\"create user data_analyst with password 'secret1';\")\n",
    "cur2.execute(\"grant readonly to data_analyst;\")\n",
    "cur2.execute(\"create user data_scientist with password 'secret2';\")\n",
    "cur2.execute(\"grant readwrite to data_scientist;\")\n",
    "conn2.commit()"
   ]
  },
  {
   "cell_type": "markdown",
   "metadata": {},
   "source": [
    "I will now inspect the `information_schema.table_privileges` table to ensure that everything looks the way I planned. "
   ]
  },
  {
   "cell_type": "code",
   "execution_count": null,
   "metadata": {
    "collapsed": false
   },
   "outputs": [],
   "source": [
    "cur2.execute(\"select grantee, privilege_type from information_schema.table_privileges;\")\n",
    "conn2.commit()"
   ]
  },
  {
   "cell_type": "code",
   "execution_count": null,
   "metadata": {
    "collapsed": true
   },
   "outputs": [],
   "source": [
    "conn2.rollback()"
   ]
  },
  {
   "cell_type": "markdown",
   "metadata": {},
   "source": [
    "This project is now completed with the database with a schema inside it, the correct datatypes for storing the data, table containing rows from the csv `boston.csv`, user groups, and users assigned to those groups. "
   ]
  }
 ],
 "metadata": {
  "kernelspec": {
   "display_name": "Python 3",
   "language": "python",
   "name": "python3"
  },
  "language_info": {
   "codemirror_mode": {
    "name": "ipython",
    "version": 3
   },
   "file_extension": ".py",
   "mimetype": "text/x-python",
   "name": "python",
   "nbconvert_exporter": "python",
   "pygments_lexer": "ipython3",
   "version": "3.4.3"
  }
 },
 "nbformat": 4,
 "nbformat_minor": 2
}
