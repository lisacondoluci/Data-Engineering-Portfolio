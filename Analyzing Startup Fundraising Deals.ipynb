{
 "cells": [
  {
   "cell_type": "markdown",
   "metadata": {
    "collapsed": true
   },
   "source": [
    "# Analyzing Startup Fundraising Deals from Crunchbase\n",
    "\n",
    "In this project, I will be analyzing a dataset from Crunchbase, which is website that crowdsources information on the fundraising rounds of many startups. The dataset can be found [here](https://github.com/datahoarder/crunchbase-october-2013/blob/master/crunchbase-investments.csv) on GitHub. \n",
    "\n",
    "I will be working under the assumption that I have only 10 megabytes of available memory. As this dataset, `crunchbase-investments.csv`, consumes 10.3 megabytes of disk space, I will have to use batch processing. I will read the dataset into pandas dataframes using 5000-row chunks to ensure that each chunk consumes much less than 10 megabytes of memory.\n",
    "\n",
    "I will start with becoming familiar with each of the following:\n",
    "\n",
    "* The total memory footprint of all of the chunks combined\n",
    "* Each column's memory footprint\n",
    "* Each column's missing value counts\n",
    "* Which column(s) we can drop because they aren't useful for analysis"
   ]
  },
  {
   "cell_type": "code",
   "execution_count": 1,
   "metadata": {
    "collapsed": false
   },
   "outputs": [],
   "source": [
    "import sqlite3 \n",
    "import pandas as pd\n",
    "import json"
   ]
  },
  {
   "cell_type": "markdown",
   "metadata": {},
   "source": [
    "## Memory footprints\n",
    "\n",
    "First, I will look at memory footprint across all chunks, and the total memory footprint of all chunks combined. Then I will look at memory footprint across each column. "
   ]
  },
  {
   "cell_type": "code",
   "execution_count": 2,
   "metadata": {
    "collapsed": false
   },
   "outputs": [
    {
     "name": "stdout",
     "output_type": "stream",
     "text": [
      "Megabytes of total memory usage in each chunk:\n",
      "5.579195022583008\n",
      "5.528186798095703\n",
      "5.535004615783691\n",
      "5.528162956237793\n",
      "5.5243072509765625\n",
      "5.553412437438965\n",
      "5.531391143798828\n",
      "5.509613037109375\n",
      "5.396090507507324\n",
      "4.63945198059082\n",
      "2.663668632507324\n",
      "\n",
      "Total memory usage across all chunks:\n",
      "56.988484382629395\n"
     ]
    }
   ],
   "source": [
    "chunk_iter = pd.read_csv('crunchbase-investments.csv', chunksize=5000, encoding='ISO-8859-1')\n",
    "list_mem = []\n",
    "print(\"Megabytes of total memory usage in each chunk:\")\n",
    "for chunk in chunk_iter:\n",
    "    mem_bytes = chunk.memory_usage(deep=True).sum()\n",
    "    mem_megabytes = mem_bytes/(2**20)\n",
    "    print(mem_megabytes)\n",
    "    list_mem.append(mem_megabytes)\n",
    "\n",
    "print(\"\\nTotal memory usage across all chunks:\")\n",
    "print(sum(list_mem))"
   ]
  },
  {
   "cell_type": "markdown",
   "metadata": {},
   "source": [
    "We can see that the memory usage across each chunk is less than 6 megabytes, which keeps us on the safe side of the 10 megabyte limit. Now I will determine how much memory is taken up by each column. "
   ]
  },
  {
   "cell_type": "code",
   "execution_count": 3,
   "metadata": {
    "collapsed": false
   },
   "outputs": [
    {
     "name": "stdout",
     "output_type": "stream",
     "text": [
      "Bytes of total memory usage in each column:\n",
      "company_permalink         4057788\n",
      "company_name              3591326\n",
      "company_category_code     3421104\n",
      "company_country_code      3172176\n",
      "company_state_code        3106051\n",
      "company_region            3411585\n",
      "company_city              3505926\n",
      "investor_permalink        4980548\n",
      "investor_name             3915666\n",
      "investor_category_code     622424\n",
      "investor_country_code     2647292\n",
      "investor_state_code       2476607\n",
      "investor_region           3396281\n",
      "investor_city             2885083\n",
      "funding_round_type        3410707\n",
      "funded_at                 3542185\n",
      "funded_month              3383584\n",
      "funded_quarter            3383584\n",
      "funded_year                422960\n",
      "raised_amount_usd          422960\n",
      "dtype: int64\n",
      "\n",
      "Total megabytes of memory usage:\n",
      "56.9876070022583\n"
     ]
    }
   ],
   "source": [
    "chunk_iter = pd.read_csv('crunchbase-investments.csv', chunksize=5000, encoding='ISO-8859-1')\n",
    "counter = 0\n",
    "mem_series = pd.Series()\n",
    "for chunk in chunk_iter:\n",
    "    if counter == 0:\n",
    "        mem_series = chunk.memory_usage(deep=True)\n",
    "    else:\n",
    "        mem_series += chunk.memory_usage(deep=True)\n",
    "    counter += 1\n",
    "\n",
    "print(\"Bytes of total memory usage in each column:\")\n",
    "mem_series = mem_series.drop('Index')\n",
    "print(mem_series)\n",
    "\n",
    "print(\"\\nTotal megabytes of memory usage:\")\n",
    "print(sum(mem_series/(2**20)))"
   ]
  },
  {
   "cell_type": "markdown",
   "metadata": {
    "collapsed": true
   },
   "source": [
    "The total memory usage (~57 megabytes) is the same when split by chunk or by column. \n",
    "\n",
    "## Missing value counts"
   ]
  },
  {
   "cell_type": "code",
   "execution_count": 4,
   "metadata": {
    "collapsed": false
   },
   "outputs": [
    {
     "name": "stdout",
     "output_type": "stream",
     "text": [
      "Number of missing values in each column:\n",
      "company_permalink             1\n",
      "company_name                  1\n",
      "company_country_code          1\n",
      "company_region                1\n",
      "investor_permalink            2\n",
      "investor_name                 2\n",
      "investor_region               2\n",
      "funded_year                   3\n",
      "funded_quarter                3\n",
      "funded_month                  3\n",
      "funded_at                     3\n",
      "funding_round_type            3\n",
      "company_state_code          492\n",
      "company_city                533\n",
      "company_category_code       643\n",
      "raised_amount_usd          3599\n",
      "investor_country_code     12001\n",
      "investor_city             12480\n",
      "investor_state_code       16809\n",
      "investor_category_code    50427\n",
      "dtype: int64\n"
     ]
    }
   ],
   "source": [
    "chunk_iter = pd.read_csv('crunchbase-investments.csv', chunksize=5000, encoding='ISO-8859-1')\n",
    "counter = 0\n",
    "missing_val = pd.Series()\n",
    "for chunk in chunk_iter:\n",
    "    if counter == 0:\n",
    "        missing_val = chunk.isnull().sum()\n",
    "    else:\n",
    "        missing_val += chunk.isnull().sum()\n",
    "    counter += 1\n",
    "\n",
    "print(\"Number of missing values in each column:\")\n",
    "print(missing_val.sort_values())"
   ]
  },
  {
   "cell_type": "markdown",
   "metadata": {},
   "source": [
    "## Columns we can drop\n",
    "\n",
    "Now, I am looking at the first ten rows of the dataset in order to determine which columns we can possibly drop. "
   ]
  },
  {
   "cell_type": "code",
   "execution_count": 5,
   "metadata": {
    "collapsed": false
   },
   "outputs": [
    {
     "name": "stdout",
     "output_type": "stream",
     "text": [
      "     company_permalink company_name company_category_code  \\\n",
      "0    /company/advercar     AdverCar           advertising   \n",
      "1  /company/launchgram   LaunchGram                  news   \n",
      "2        /company/utap         uTaP             messaging   \n",
      "3    /company/zoopshop     ZoopShop              software   \n",
      "4    /company/efuneral     eFuneral                   web   \n",
      "5       /company/tackk        Tackk                   web   \n",
      "6    /company/acclaimd     Acclaimd             analytics   \n",
      "7    /company/acclaimd     Acclaimd             analytics   \n",
      "8    /company/toviefor     ToVieFor             ecommerce   \n",
      "9    /company/ohk-labs     OHK Labs                sports   \n",
      "\n",
      "  company_country_code company_state_code         company_region  \\\n",
      "0                  USA                 CA                 SF Bay   \n",
      "1                  USA                 CA                 SF Bay   \n",
      "2                  USA                NaN  United States - Other   \n",
      "3                  USA                 OH               Columbus   \n",
      "4                  USA                 OH              Cleveland   \n",
      "5                  USA                 OH              Cleveland   \n",
      "6                  USA                 OH               Columbus   \n",
      "7                  USA                 OH               Columbus   \n",
      "8                  USA                 NY               New York   \n",
      "9                  USA                 FL             Palm Beach   \n",
      "\n",
      "    company_city                                 investor_permalink  \\\n",
      "0  San Francisco                         /company/1-800-flowers-com   \n",
      "1  Mountain View                               /company/10xelerator   \n",
      "2            NaN                               /company/10xelerator   \n",
      "3       columbus                               /company/10xelerator   \n",
      "4      Cleveland                               /company/10xelerator   \n",
      "5      Cleveland                               /company/10xelerator   \n",
      "6       Columbus                               /company/10xelerator   \n",
      "7       Columbus                               /company/10xelerator   \n",
      "8       New York  /company/2010-nyu-stern-business-plan-competition   \n",
      "9     Boca Raton                           /company/22hundred-group   \n",
      "\n",
      "                              investor_name investor_category_code  \\\n",
      "0                         1-800-FLOWERS.COM                    NaN   \n",
      "1                               10Xelerator                finance   \n",
      "2                               10Xelerator                finance   \n",
      "3                               10Xelerator                finance   \n",
      "4                               10Xelerator                finance   \n",
      "5                               10Xelerator                finance   \n",
      "6                               10Xelerator                finance   \n",
      "7                               10Xelerator                finance   \n",
      "8  2010 NYU Stern Business Plan Competition                    NaN   \n",
      "9                           22Hundred Group                    NaN   \n",
      "\n",
      "  investor_country_code investor_state_code investor_region investor_city  \\\n",
      "0                   USA                  NY        New York      New York   \n",
      "1                   USA                  OH        Columbus      Columbus   \n",
      "2                   USA                  OH        Columbus      Columbus   \n",
      "3                   USA                  OH        Columbus      Columbus   \n",
      "4                   USA                  OH        Columbus      Columbus   \n",
      "5                   USA                  OH        Columbus      Columbus   \n",
      "6                   USA                  OH        Columbus      Columbus   \n",
      "7                   USA                  OH        Columbus      Columbus   \n",
      "8                   NaN                 NaN         unknown           NaN   \n",
      "9                   NaN                 NaN         unknown           NaN   \n",
      "\n",
      "  funding_round_type   funded_at funded_month funded_quarter  funded_year  \\\n",
      "0           series-a  2012-10-30      2012-10        2012-Q4         2012   \n",
      "1              other  2012-01-23      2012-01        2012-Q1         2012   \n",
      "2              other  2012-01-01      2012-01        2012-Q1         2012   \n",
      "3              angel  2012-02-15      2012-02        2012-Q1         2012   \n",
      "4              other  2011-09-08      2011-09        2011-Q3         2011   \n",
      "5              other  2012-02-01      2012-02        2012-Q1         2012   \n",
      "6              angel  2012-06-01      2012-06        2012-Q2         2012   \n",
      "7              angel  2012-08-07      2012-08        2012-Q3         2012   \n",
      "8              angel  2010-04-01      2010-04        2010-Q2         2010   \n",
      "9              angel  2011-09-01      2011-09        2011-Q3         2011   \n",
      "\n",
      "   raised_amount_usd  \n",
      "0            2000000  \n",
      "1              20000  \n",
      "2              20000  \n",
      "3              20000  \n",
      "4              20000  \n",
      "5              20000  \n",
      "6              20000  \n",
      "7              70000  \n",
      "8              75000  \n",
      "9             100000  \n"
     ]
    }
   ],
   "source": [
    "first_ten = pd.read_csv('crunchbase-investments.csv', nrows=10, encoding='ISO-8859-1')\n",
    "print(first_ten)"
   ]
  },
  {
   "cell_type": "markdown",
   "metadata": {},
   "source": [
    "It seems like the following columns will not be necessary for analysis:\n",
    "\n",
    "* company_permalink (already have company_name)\n",
    "* investor_permalink (already have investor_name)\n",
    "* investor_category_code (>90% missing values)\n",
    "\n",
    "I will drop these columns. "
   ]
  },
  {
   "cell_type": "code",
   "execution_count": 6,
   "metadata": {
    "collapsed": false
   },
   "outputs": [
    {
     "name": "stdout",
     "output_type": "stream",
     "text": [
      "Index(['company_name', 'company_category_code', 'company_country_code',\n",
      "       'company_state_code', 'company_region', 'company_city', 'investor_name',\n",
      "       'investor_country_code', 'investor_state_code', 'investor_region',\n",
      "       'investor_city', 'funding_round_type', 'funded_at', 'funded_month',\n",
      "       'funded_quarter', 'funded_year', 'raised_amount_usd'],\n",
      "      dtype='object')\n"
     ]
    }
   ],
   "source": [
    "useful_cols = chunk.columns.drop(['company_permalink', 'investor_permalink', \n",
    "                                     'investor_category_code'])\n",
    "print(useful_cols)"
   ]
  },
  {
   "cell_type": "markdown",
   "metadata": {},
   "source": [
    "## Determining column types\n",
    "\n",
    "Since I have a good sense of the memory footprints and missing values, I can now get familiar with the column types before adding the data into SQLite. "
   ]
  },
  {
   "cell_type": "code",
   "execution_count": 7,
   "metadata": {
    "collapsed": false
   },
   "outputs": [
    {
     "name": "stdout",
     "output_type": "stream",
     "text": [
      "Column types:\n",
      "{\n",
      "  \"company_country_code\": [\n",
      "    \"object\"\n",
      "  ],\n",
      "  \"company_region\": [\n",
      "    \"object\"\n",
      "  ],\n",
      "  \"investor_city\": [\n",
      "    \"object\",\n",
      "    \"float64\"\n",
      "  ],\n",
      "  \"funded_year\": [\n",
      "    \"int64\",\n",
      "    \"float64\"\n",
      "  ],\n",
      "  \"funding_round_type\": [\n",
      "    \"object\"\n",
      "  ],\n",
      "  \"funded_month\": [\n",
      "    \"object\"\n",
      "  ],\n",
      "  \"investor_region\": [\n",
      "    \"object\"\n",
      "  ],\n",
      "  \"funded_at\": [\n",
      "    \"object\"\n",
      "  ],\n",
      "  \"investor_country_code\": [\n",
      "    \"object\",\n",
      "    \"float64\"\n",
      "  ],\n",
      "  \"company_category_code\": [\n",
      "    \"object\"\n",
      "  ],\n",
      "  \"company_state_code\": [\n",
      "    \"object\"\n",
      "  ],\n",
      "  \"investor_state_code\": [\n",
      "    \"object\",\n",
      "    \"float64\"\n",
      "  ],\n",
      "  \"funded_quarter\": [\n",
      "    \"object\"\n",
      "  ],\n",
      "  \"raised_amount_usd\": [\n",
      "    \"float64\"\n",
      "  ],\n",
      "  \"company_city\": [\n",
      "    \"object\"\n",
      "  ],\n",
      "  \"company_name\": [\n",
      "    \"object\"\n",
      "  ],\n",
      "  \"investor_name\": [\n",
      "    \"object\"\n",
      "  ]\n",
      "}\n"
     ]
    }
   ],
   "source": [
    "chunk_iter = pd.read_csv('crunchbase-investments.csv', chunksize=5000, \n",
    "                         encoding='ISO-8859-1', usecols=useful_cols)        \n",
    "col_types = {}      \n",
    "for chunk in chunk_iter:\n",
    "    for col in chunk.columns:\n",
    "        if col not in col_types:\n",
    "            col_types[col] = [str(chunk[col].dtypes)]\n",
    "        elif str(chunk[col].dtypes) not in col_types[col]:\n",
    "            col_types[col].append(str(chunk[col].dtypes))\n",
    "            \n",
    "print(\"Column types:\")\n",
    "print(json.dumps(col_types, indent=2))"
   ]
  },
  {
   "cell_type": "markdown",
   "metadata": {},
   "source": [
    "I can see that some columns have several more than one data type. I will now see how many unique types there are for each column, since columns with few unique types could be candidates for the `category` data type."
   ]
  },
  {
   "cell_type": "code",
   "execution_count": 8,
   "metadata": {
    "collapsed": false
   },
   "outputs": [
    {
     "name": "stdout",
     "output_type": "stream",
     "text": [
      "Number of unique values in each column:\n",
      "\n",
      "{\n",
      "  \"company_country_code\": 2,\n",
      "  \"company_region\": 546,\n",
      "  \"investor_city\": 990,\n",
      "  \"funding_round_type\": 9,\n",
      "  \"funded_month\": 192,\n",
      "  \"investor_region\": 585,\n",
      "  \"funded_at\": 2808,\n",
      "  \"investor_country_code\": 72,\n",
      "  \"company_category_code\": 43,\n",
      "  \"company_state_code\": 50,\n",
      "  \"investor_state_code\": 50,\n",
      "  \"funded_quarter\": 72,\n",
      "  \"raised_amount_usd\": 1458,\n",
      "  \"company_city\": 1229,\n",
      "  \"company_name\": 11573,\n",
      "  \"funded_year\": 20,\n",
      "  \"investor_name\": 10465\n",
      "}\n"
     ]
    }
   ],
   "source": [
    "chunk_iter = pd.read_csv('crunchbase-investments.csv', chunksize=5000, \n",
    "                         encoding='ISO-8859-1', usecols=useful_cols)  \n",
    "uniques = {}\n",
    "for chunk in chunk_iter:\n",
    "    for c in chunk.columns:\n",
    "        uniques[c] = []\n",
    "\n",
    "chunk_iter = pd.read_csv('crunchbase-investments.csv', chunksize=5000, \n",
    "                         encoding='ISO-8859-1', usecols=useful_cols)  \n",
    "for chunk in chunk_iter:\n",
    "    cols = chunk.columns\n",
    "    for c in cols:\n",
    "        for row in chunk[c]:\n",
    "            if pd.isnull(row) == False:\n",
    "                if row not in uniques[c]:\n",
    "                    uniques[c].append(row)\n",
    "                    \n",
    "lengths = {}\n",
    "for column in uniques:\n",
    "    lengths[column] = len(uniques[column])\n",
    "print(\"Number of unique values in each column:\\n\")\n",
    "print(json.dumps(lengths, indent=2))"
   ]
  },
  {
   "cell_type": "markdown",
   "metadata": {},
   "source": [
    "## Optimizing column types\n",
    "\n",
    "It looks like the following columns with few unique values could be `category` data types:\n",
    "\n",
    "* `company_country_code`\n",
    "* `funding_round_type`\n",
    "\n",
    "I can also optimize the data types of the following columns:\n",
    "\n",
    "* `investor_state_code` (object)\n",
    "* `investor_country_code` (object)\n",
    "* `investor_city` (object)\n",
    "* `raised_amount_usd` (int)\n",
    "* `funded_at` (datetime)\n",
    "* `funded_month` (datetime)\n",
    "* `funded_year` (datetime)"
   ]
  },
  {
   "cell_type": "code",
   "execution_count": 9,
   "metadata": {
    "collapsed": false
   },
   "outputs": [
    {
     "name": "stdout",
     "output_type": "stream",
     "text": [
      "Megabytes of total memory usage in each chunk:\n",
      "\n",
      "3.44927978515625\n",
      "3.518195152282715\n",
      "3.5227088928222656\n",
      "3.5202817916870117\n",
      "3.508152961730957\n",
      "3.531367301940918\n",
      "3.515960693359375\n",
      "3.506814956665039\n",
      "3.4132614135742188\n",
      "3.090296745300293\n",
      "1.7744121551513672\n",
      "\n",
      "Total memory usage across all chunks:\n",
      "36.35073184967041\n"
     ]
    }
   ],
   "source": [
    "chunk_iter = pd.read_csv('crunchbase-investments.csv', chunksize=5000, \n",
    "                         encoding='ISO-8859-1', usecols=useful_cols,\n",
    "                         parse_dates=['funded_at', 'funded_month', 'funded_year'])  \n",
    "\n",
    "print(\"Megabytes of total memory usage in each chunk:\\n\")\n",
    "list_mem = []\n",
    "for chunk in chunk_iter:\n",
    "    chunk['company_country_code'] = chunk['company_country_code'].astype('category')\n",
    "    chunk['funding_round_type'] = chunk['funding_round_type'].astype('category')\n",
    "    chunk['investor_state_code'] = chunk['investor_state_code'].astype('object')\n",
    "    chunk['investor_country_code'] = chunk['investor_country_code'].astype('object')\n",
    "    chunk['investor_city'] = chunk['investor_city'].astype('object')\n",
    "    chunk['raised_amount_usd'] = pd.to_numeric(chunk['raised_amount_usd'], downcast='integer')\n",
    "    mem_bytes = chunk.memory_usage(deep=True).sum()\n",
    "    mem_megabytes = mem_bytes/(2**20)\n",
    "    print(mem_megabytes)\n",
    "    list_mem.append(mem_megabytes)\n",
    "\n",
    "print(\"\\nTotal memory usage across all chunks:\")\n",
    "print(sum(list_mem))"
   ]
  },
  {
   "cell_type": "markdown",
   "metadata": {},
   "source": [
    "We can see that optimizing the dataset gives us a total memory usage that is about 20 megabytes less than the original memory usage. \n",
    "\n",
    "\n",
    "## Loading data into SQLite database\n",
    "\n",
    "Now that the data is in a good shape to start exploring and analyzing, I can load each chunk into a table in a SQLite database to begin querying. I will create and connect to a new SQLite database file called `cb_investments.db`, and this table in SQLite will be called `investments`. "
   ]
  },
  {
   "cell_type": "code",
   "execution_count": 12,
   "metadata": {
    "collapsed": true
   },
   "outputs": [],
   "source": [
    "conn = sqlite3.connect('cb_investments.db')\n",
    "\n",
    "chunk_iter = pd.read_csv('crunchbase-investments.csv', chunksize=5000, \n",
    "                         encoding='ISO-8859-1', usecols=useful_cols,\n",
    "                         parse_dates=['funded_at', 'funded_month', 'funded_year'])  \n",
    "\n",
    "for chunk in chunk_iter:\n",
    "    chunk['company_country_code'] = chunk['company_country_code'].astype('category')\n",
    "    chunk['funding_round_type'] = chunk['funding_round_type'].astype('category')\n",
    "    chunk['investor_state_code'] = chunk['investor_state_code'].astype('object')\n",
    "    chunk['investor_country_code'] = chunk['investor_country_code'].astype('object')\n",
    "    chunk['investor_city'] = chunk['investor_city'].astype('object')\n",
    "    chunk['raised_amount_usd'] = pd.to_numeric(chunk['raised_amount_usd'], downcast='integer')\n",
    "    chunk.to_sql('investments', conn, if_exists='append', index=False)"
   ]
  },
  {
   "cell_type": "markdown",
   "metadata": {},
   "source": [
    "I have now created a table called `investments` that I can query to make sure the data types match up with what I expected. "
   ]
  },
  {
   "cell_type": "code",
   "execution_count": 13,
   "metadata": {
    "collapsed": false
   },
   "outputs": [
    {
     "name": "stdout",
     "output_type": "stream",
     "text": [
      "  company_name company_category_code company_country_code company_state_code  \\\n",
      "0     AdverCar           advertising                  USA                 CA   \n",
      "1   LaunchGram                  news                  USA                 CA   \n",
      "2         uTaP             messaging                  USA               None   \n",
      "3     ZoopShop              software                  USA                 OH   \n",
      "4     eFuneral                   web                  USA                 OH   \n",
      "5        Tackk                   web                  USA                 OH   \n",
      "6     Acclaimd             analytics                  USA                 OH   \n",
      "7     Acclaimd             analytics                  USA                 OH   \n",
      "8     ToVieFor             ecommerce                  USA                 NY   \n",
      "9     OHK Labs                sports                  USA                 FL   \n",
      "\n",
      "          company_region   company_city  \\\n",
      "0                 SF Bay  San Francisco   \n",
      "1                 SF Bay  Mountain View   \n",
      "2  United States - Other           None   \n",
      "3               Columbus       columbus   \n",
      "4              Cleveland      Cleveland   \n",
      "5              Cleveland      Cleveland   \n",
      "6               Columbus       Columbus   \n",
      "7               Columbus       Columbus   \n",
      "8               New York       New York   \n",
      "9             Palm Beach     Boca Raton   \n",
      "\n",
      "                              investor_name investor_country_code  \\\n",
      "0                         1-800-FLOWERS.COM                   USA   \n",
      "1                               10Xelerator                   USA   \n",
      "2                               10Xelerator                   USA   \n",
      "3                               10Xelerator                   USA   \n",
      "4                               10Xelerator                   USA   \n",
      "5                               10Xelerator                   USA   \n",
      "6                               10Xelerator                   USA   \n",
      "7                               10Xelerator                   USA   \n",
      "8  2010 NYU Stern Business Plan Competition                  None   \n",
      "9                           22Hundred Group                  None   \n",
      "\n",
      "  investor_state_code investor_region investor_city funding_round_type  \\\n",
      "0                  NY        New York      New York           series-a   \n",
      "1                  OH        Columbus      Columbus              other   \n",
      "2                  OH        Columbus      Columbus              other   \n",
      "3                  OH        Columbus      Columbus              angel   \n",
      "4                  OH        Columbus      Columbus              other   \n",
      "5                  OH        Columbus      Columbus              other   \n",
      "6                  OH        Columbus      Columbus              angel   \n",
      "7                  OH        Columbus      Columbus              angel   \n",
      "8                None         unknown          None              angel   \n",
      "9                None         unknown          None              angel   \n",
      "\n",
      "             funded_at         funded_month funded_quarter  \\\n",
      "0  2012-10-30 00:00:00  2012-10-01 00:00:00        2012-Q4   \n",
      "1  2012-01-23 00:00:00  2012-01-01 00:00:00        2012-Q1   \n",
      "2  2012-01-01 00:00:00  2012-01-01 00:00:00        2012-Q1   \n",
      "3  2012-02-15 00:00:00  2012-02-01 00:00:00        2012-Q1   \n",
      "4  2011-09-08 00:00:00  2011-09-01 00:00:00        2011-Q3   \n",
      "5  2012-02-01 00:00:00  2012-02-01 00:00:00        2012-Q1   \n",
      "6  2012-06-01 00:00:00  2012-06-01 00:00:00        2012-Q2   \n",
      "7  2012-08-07 00:00:00  2012-08-01 00:00:00        2012-Q3   \n",
      "8  2010-04-01 00:00:00  2010-04-01 00:00:00        2010-Q2   \n",
      "9  2011-09-01 00:00:00  2011-09-01 00:00:00        2011-Q3   \n",
      "\n",
      "           funded_year  raised_amount_usd  \n",
      "0  2012-01-01 00:00:00          2000000.0  \n",
      "1  2012-01-01 00:00:00            20000.0  \n",
      "2  2012-01-01 00:00:00            20000.0  \n",
      "3  2012-01-01 00:00:00            20000.0  \n",
      "4  2011-01-01 00:00:00            20000.0  \n",
      "5  2012-01-01 00:00:00            20000.0  \n",
      "6  2012-01-01 00:00:00            20000.0  \n",
      "7  2012-01-01 00:00:00            70000.0  \n",
      "8  2010-01-01 00:00:00            75000.0  \n",
      "9  2011-01-01 00:00:00           100000.0  \n"
     ]
    }
   ],
   "source": [
    "q1 = '''\n",
    "    select * \n",
    "    from investments \n",
    "    limit 10\n",
    "'''\n",
    "results1 = pd.read_sql(q1, conn)\n",
    "print(results1)"
   ]
  },
  {
   "cell_type": "code",
   "execution_count": 14,
   "metadata": {
    "collapsed": false
   },
   "outputs": [
    {
     "name": "stdout",
     "output_type": "stream",
     "text": [
      "    cid                   name       type  notnull dflt_value  pk\n",
      "0     0           company_name       TEXT        0       None   0\n",
      "1     1  company_category_code       TEXT        0       None   0\n",
      "2     2   company_country_code       TEXT        0       None   0\n",
      "3     3     company_state_code       TEXT        0       None   0\n",
      "4     4         company_region       TEXT        0       None   0\n",
      "5     5           company_city       TEXT        0       None   0\n",
      "6     6          investor_name       TEXT        0       None   0\n",
      "7     7  investor_country_code       TEXT        0       None   0\n",
      "8     8    investor_state_code       TEXT        0       None   0\n",
      "9     9        investor_region       TEXT        0       None   0\n",
      "10   10          investor_city       TEXT        0       None   0\n",
      "11   11     funding_round_type       TEXT        0       None   0\n",
      "12   12              funded_at  TIMESTAMP        0       None   0\n",
      "13   13           funded_month  TIMESTAMP        0       None   0\n",
      "14   14         funded_quarter       TEXT        0       None   0\n",
      "15   15            funded_year  TIMESTAMP        0       None   0\n",
      "16   16      raised_amount_usd       REAL        0       None   0\n"
     ]
    }
   ],
   "source": [
    "q2 = 'pragma table_info(investments)'\n",
    "results2 = pd.read_sql(q2, conn)\n",
    "print(results2)"
   ]
  },
  {
   "cell_type": "markdown",
   "metadata": {},
   "source": [
    "It seems like each of the types are what I expected. I will now use the pandas SQLite workflow to answer several business questions.\n",
    "\n",
    "###  Which category of company attracted the most investments?"
   ]
  },
  {
   "cell_type": "code",
   "execution_count": 20,
   "metadata": {
    "collapsed": false
   },
   "outputs": [
    {
     "name": "stdout",
     "output_type": "stream",
     "text": [
      "  Company Category  Number of Investments\n",
      "0         software                   7243\n"
     ]
    }
   ],
   "source": [
    "q = '''\n",
    "    select \n",
    "        company_category_code as \"Company Category\",\n",
    "        count(company_category_code) as \"Number of Investments\"\n",
    "    from investments\n",
    "    group by 1\n",
    "    order by 2 desc\n",
    "    limit 1\n",
    "'''\n",
    "results = pd.read_sql(q, conn)\n",
    "print(results)"
   ]
  },
  {
   "cell_type": "markdown",
   "metadata": {},
   "source": [
    "###  Which investor contributed the most money (across all startups)?"
   ]
  },
  {
   "cell_type": "code",
   "execution_count": 22,
   "metadata": {
    "collapsed": false
   },
   "outputs": [
    {
     "name": "stdout",
     "output_type": "stream",
     "text": [
      "                           Investor  Total Investments\n",
      "0  Kleiner Perkins Caufield & Byers       1.121783e+10\n"
     ]
    }
   ],
   "source": [
    "q = '''\n",
    "    select \n",
    "        investor_name as \"Investor\",\n",
    "        sum(raised_amount_usd) as \"Total Amount Invested\"\n",
    "    from investments\n",
    "    group by 1\n",
    "    order by 2 desc\n",
    "    limit 1\n",
    "'''\n",
    "results = pd.read_sql(q, conn)\n",
    "print(results)"
   ]
  },
  {
   "cell_type": "markdown",
   "metadata": {},
   "source": [
    "###  Which investors contributed the most money per startup?"
   ]
  },
  {
   "cell_type": "code",
   "execution_count": 28,
   "metadata": {
    "collapsed": false
   },
   "outputs": [
    {
     "name": "stdout",
     "output_type": "stream",
     "text": [
      "             Company Name                   Investor  Max Amount Invested\n",
      "0               Clearwire                BrightHouse         3.200000e+09\n",
      "1               sigmacare     Marlin Equity Partners         2.600000e+09\n",
      "2                Facebook   Digital Sky Technologies         1.500000e+09\n",
      "3          Wave Broadband                GI Partners         1.050000e+09\n",
      "4                     AOL                     Google         1.000000e+09\n",
      "5                 Groupon        Andreessen Horowitz         9.500000e+08\n",
      "6  University of Maryland       Siemens PLM Software         7.500000e+08\n",
      "7            Vivint, Inc.              Goldman Sachs         5.650000e+08\n",
      "8                Solyndra  U.S. Department of Energy         5.350000e+08\n",
      "9       Fisker Automotive  U.S. Department of Energy         5.290000e+08\n"
     ]
    }
   ],
   "source": [
    "q = '''\n",
    "    select \n",
    "        company_name as \"Company Name\",\n",
    "        investor_name as \"Investor\",\n",
    "        max(raised_amount_usd) as \"Max Amount Invested\"\n",
    "    from investments\n",
    "    group by 1\n",
    "    order by 3 desc\n",
    "    limit 10\n",
    "'''\n",
    "results = pd.read_sql(q, conn)\n",
    "print(results)"
   ]
  }
 ],
 "metadata": {
  "anaconda-cloud": {},
  "kernelspec": {
   "display_name": "Python 3",
   "language": "python",
   "name": "python3"
  },
  "language_info": {
   "codemirror_mode": {
    "name": "ipython",
    "version": 3
   },
   "file_extension": ".py",
   "mimetype": "text/x-python",
   "name": "python",
   "nbconvert_exporter": "python",
   "pygments_lexer": "ipython3",
   "version": "3.4.3"
  }
 },
 "nbformat": 4,
 "nbformat_minor": 2
}
